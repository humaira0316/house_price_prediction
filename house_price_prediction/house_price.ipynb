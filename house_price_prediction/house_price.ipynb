{
 "cells": [
  {
   "cell_type": "code",
   "execution_count": null,
   "metadata": {},
   "outputs": [],
   "source": [
    "import pandas as pd\n",
    "import numpy as np\n",
    "import matplotlib.pyplot as plt\n",
    "import plotly.express as px\n",
    "import plotly.graph_objects as go\n",
    "\n",
    "data = pd.read_csv(\"House_Rent_Dataset.csv\")\n",
    "print(data.head())"
   ]
  },
  {
   "cell_type": "code",
   "execution_count": null,
   "metadata": {},
   "outputs": [],
   "source": [
    "print(data.isnull().sum()) #checking for null values"
   ]
  },
  {
   "cell_type": "code",
   "execution_count": null,
   "metadata": {},
   "outputs": [],
   "source": [
    "print(data.describe())#lookimg at the descriptive statistics of the data"
   ]
  },
  {
   "cell_type": "code",
   "execution_count": null,
   "metadata": {},
   "outputs": [],
   "source": [
    "print(f\"Mean Rent: {data.Rent.mean()}\")\n",
    "print(f\"Median Rent: {data.Rent.median()}\")\n",
    "print(f\"Highest Rent: {data.Rent.max()}\")\n",
    "print(f\"Lowest Rent: {data.Rent.min()}\")"
   ]
  },
  {
   "cell_type": "code",
   "execution_count": null,
   "metadata": {},
   "outputs": [],
   "source": [
    "figure = px.bar(data, x=data[\"City\"], \n",
    "                y = data[\"Rent\"], \n",
    "                color = data[\"BHK\"],\n",
    "            title=\"Rent in Different Cities According to BHK\")\n",
    "figure.show()#rent of houses in different cities according to the no of bedrooms , halls and kitchen"
   ]
  },
  {
   "cell_type": "code",
   "execution_count": null,
   "metadata": {},
   "outputs": [],
   "source": [
    "figure = px.bar(data, x=data[\"City\"], \n",
    "                y = data[\"Rent\"], \n",
    "                color = data[\"Area Type\"],\n",
    "            title=\"Rent in Different Cities According to Area Type\")\n",
    "figure.show()# checking the rent of the houses in different cities according to the area type"
   ]
  },
  {
   "cell_type": "code",
   "execution_count": null,
   "metadata": {},
   "outputs": [],
   "source": [
    "figure = px.bar(data, x=data[\"City\"], \n",
    "                y = data[\"Rent\"], \n",
    "                color = data[\"Furnishing Status\"],\n",
    "            title=\"Rent in Different Cities According to Furnishing Status\")\n",
    "figure.show()#checking the rent of the houses in different cities according to the furnishing status of the house\n"
   ]
  },
  {
   "cell_type": "code",
   "execution_count": null,
   "metadata": {},
   "outputs": [],
   "source": [
    "figure = px.bar(data, x=data[\"City\"], \n",
    "                y = data[\"Rent\"], \n",
    "                color = data[\"Size\"],\n",
    "            title=\"Rent in Different Cities According to Size\")\n",
    "figure.show()#checking the rent of the houses in different cities according to the size of the house"
   ]
  },
  {
   "cell_type": "code",
   "execution_count": null,
   "metadata": {},
   "outputs": [],
   "source": [
    "cities = data[\"City\"].value_counts()\n",
    "label = cities.index\n",
    "counts = cities.values\n",
    "colors = ['gold','lightgreen']\n",
    "\n",
    "fig = go.Figure(data=[go.Pie(labels=label, values=counts, hole=0.5)])\n",
    "fig.update_layout(title_text='Number of Houses Available for Rent')\n",
    "fig.update_traces(hoverinfo='label+percent', textinfo='value', textfont_size=30,\n",
    "                  marker=dict(colors=colors, line=dict(color='black', width=3)))\n",
    "fig.show()#checking the number of houses available for rent in different cities according to the dataset"
   ]
  },
  {
   "cell_type": "code",
   "execution_count": null,
   "metadata": {},
   "outputs": [],
   "source": [
    "# Preference of Tenant\n",
    "tenant = data[\"Tenant Preferred\"].value_counts()\n",
    "label = tenant.index\n",
    "counts = tenant.values\n",
    "colors = ['gold','lightgreen']\n",
    "\n",
    "fig = go.Figure(data=[go.Pie(labels=label, values=counts, hole=0.5)])\n",
    "fig.update_layout(title_text='Preference of Tenant in India')\n",
    "fig.update_traces(hoverinfo='label+percent', textinfo='value', textfont_size=30,\n",
    "                  marker=dict(colors=colors, line=dict(color='black', width=3)))\n",
    "fig.show()\n"
   ]
  },
  {
   "cell_type": "code",
   "execution_count": null,
   "metadata": {},
   "outputs": [],
   "source": [
    "data[\"Area Type\"] = data[\"Area Type\"].map({\"Super Area\": 1, \n",
    "                                           \"Carpet Area\": 2, \n",
    "                                           \"Built Area\": 3})\n",
    "data[\"City\"] = data[\"City\"].map({\"Mumbai\": 4000, \"Chennai\": 6000, \n",
    "                                 \"Bangalore\": 5600, \"Hyderabad\": 5000, \n",
    "                                 \"Delhi\": 1100, \"Kolkata\": 7000})\n",
    "data[\"Furnishing Status\"] = data[\"Furnishing Status\"].map({\"Unfurnished\": 0, \n",
    "                                                           \"Semi-Furnished\": 1, \n",
    "                                                           \"Furnished\": 2})\n",
    "data[\"Tenant Preferred\"] = data[\"Tenant Preferred\"].map({\"Bachelors/Family\": 2, \n",
    "                                                         \"Bachelors\": 1, \n",
    "                                                         \"Family\": 3})\n",
    "print(data.head())"
   ]
  },
  {
   "cell_type": "code",
   "execution_count": null,
   "metadata": {},
   "outputs": [],
   "source": [
    "#splitting data\n",
    "from sklearn.model_selection import train_test_split\n",
    "x = np.array(data[[\"BHK\", \"Size\", \"Area Type\", \"City\", \n",
    "                   \"Furnishing Status\", \"Tenant Preferred\", \n",
    "                   \"Bathroom\"]])\n",
    "y = np.array(data[[\"Rent\"]])\n",
    "from keras.models import Sequential\n",
    "from keras.layers import Dense, LSTM\n",
    "model = Sequential()\n",
    "model.add(LSTM(128, return_sequences=True, \n",
    "               input_shape= (xtrain.shape[1], 1)))\n",
    "model.add(LSTM(64, return_sequences=False))\n",
    "model.add(Dense(25))\n",
    "model.add(Dense(1))\n",
    "model.summary()\n",
    "\n",
    "xtrain, xtest, ytrain, ytest = train_test_split(x, y, \n",
    "                                                test_size=0.10, \n",
    "                                                random_state=42)"
   ]
  },
  {
   "cell_type": "code",
   "execution_count": null,
   "metadata": {},
   "outputs": [],
   "source": [
    "from keras.models import Sequential\n",
    "from keras.layers import Dense, LSTM\n",
    "model = Sequential()\n",
    "model.add(LSTM(128, return_sequences=True, \n",
    "               input_shape= (xtrain.shape[1], 1)))\n",
    "model.add(LSTM(64, return_sequences=False))\n",
    "model.add(Dense(25))\n",
    "model.add(Dense(1))\n",
    "model.summary()"
   ]
  },
  {
   "cell_type": "code",
   "execution_count": 27,
   "metadata": {},
   "outputs": [],
   "source": [
    "print(\"Enter House Details to Predict Rent\")\n",
    "a = int(input(\"Number of BHK: \"))\n",
    "b = int(input(\"Size of the House: \"))\n",
    "c = int(input(\"Area Type (Super Area = 1, Carpet Area = 2, Built Area = 3): \"))\n",
    "d = int(input(\"Pin Code of the City: \"))\n",
    "e = int(input(\"Furnishing Status of the House (Unfurnished = 0, Semi-Furnished = 1, Furnished = 2): \"))\n",
    "f = int(input(\"Tenant Type (Bachelors = 1, Bachelors/Family = 2, Only Family = 3): \"))\n",
    "g = int(input(\"Number of bathrooms: \"))\n",
    "features = np.array([[a, b, c, d, e, f, g]])\n",
    "print(\"Predicted House Price = \", model.predict(features))"
   ]
  },
  {
   "cell_type": "code",
   "execution_count": null,
   "metadata": {},
   "outputs": [],
   "source": []
  }
 ],
 "metadata": {
  "kernelspec": {
   "display_name": "Python 3",
   "language": "python",
   "name": "python3"
  },
  "language_info": {
   "codemirror_mode": {
    "name": "ipython",
    "version": 3
   },
   "file_extension": ".py",
   "mimetype": "text/x-python",
   "name": "python",
   "nbconvert_exporter": "python",
   "pygments_lexer": "ipython3",
   "version": "3.12.2"
  }
 },
 "nbformat": 4,
 "nbformat_minor": 2
}
